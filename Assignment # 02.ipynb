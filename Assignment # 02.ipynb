{
 "cells": [
  {
   "cell_type": "markdown",
   "metadata": {},
   "source": [
    "# Assignment # 2"
   ]
  },
  {
   "cell_type": "markdown",
   "metadata": {},
   "source": [
    "### Question # 01"
   ]
  },
  {
   "cell_type": "code",
   "execution_count": 3,
   "metadata": {},
   "outputs": [
    {
     "name": "stdout",
     "output_type": "stream",
     "text": [
      "Math = 85\n",
      "English = 85\n",
      "Physics = 96\n",
      "Chemistry = 55\n",
      "Computer Studies = 75\n",
      "A\n"
     ]
    }
   ],
   "source": [
    "S1 = int(input(\"Math = \"))\n",
    "\n",
    "S2 = int(input(\"English = \"))\n",
    "\n",
    "S3 = int(input(\"Physics = \"))\n",
    "\n",
    "S4 = int(input(\"Chemistry = \"))\n",
    "\n",
    "S5 = int(input(\"Computer Studies = \"))\n",
    "\n",
    "Total_Marks = S1 + S2 + S3 + S4 + S5\n",
    "\n",
    "per = 100/500*Total_Marks\n",
    "\n",
    "if per >= 80 and per <= 100 :\n",
    "    print(\"A+\")\n",
    "elif per >= 70 and per < 80 :\n",
    "    print(\"A\")\n",
    "elif per >= 60 and per < 70 :\n",
    "    print(\"B\")\n",
    "elif per >= 50 and per < 60 :\n",
    "    print(\"C\")\n",
    "elif per >= 40 and per < 50 :\n",
    "    print(\"D\")\n",
    "elif per >= 33 and per < 40 :\n",
    "    print(\"E\")\n",
    "elif per >= 0 and per < 33 :\n",
    "    print(\"Fail\")\n",
    "else :\n",
    "    print(\"Please enter correct percentage %\")"
   ]
  },
  {
   "cell_type": "markdown",
   "metadata": {},
   "source": [
    "### Question # 02"
   ]
  },
  {
   "cell_type": "code",
   "execution_count": 5,
   "metadata": {},
   "outputs": [
    {
     "name": "stdout",
     "output_type": "stream",
     "text": [
      "Enter any number 85\n",
      "85 Number is ODD\n"
     ]
    }
   ],
   "source": [
    "user_input = int(input(\"Enter any number \"))\n",
    "\n",
    "if user_input % 2 == 0 :\n",
    "    print(user_input, \"Number is EVEN\")\n",
    "    \n",
    "else :\n",
    "        print(user_input, \"Number is ODD\")\n"
   ]
  },
  {
   "cell_type": "markdown",
   "metadata": {},
   "source": [
    "### Question # 03"
   ]
  },
  {
   "cell_type": "code",
   "execution_count": 7,
   "metadata": {},
   "outputs": [
    {
     "name": "stdout",
     "output_type": "stream",
     "text": [
      "18\n"
     ]
    }
   ],
   "source": [
    "def string_length(string_value):\n",
    "    count = 0\n",
    "    for letter in string_value:\n",
    "        count += 1\n",
    "    return count\n",
    "print(string_length(\"Python Programming\"))"
   ]
  },
  {
   "cell_type": "markdown",
   "metadata": {},
   "source": [
    "### Question # 04"
   ]
  },
  {
   "cell_type": "code",
   "execution_count": 8,
   "metadata": {},
   "outputs": [
    {
     "name": "stdout",
     "output_type": "stream",
     "text": [
      "232\n"
     ]
    }
   ],
   "source": [
    "item_list = (1, 1, 2, 3, 5, 8, 13, 21, 34, 55, 89)\n",
    "x = 0 \n",
    "\n",
    "for num in item_list:\n",
    "    x += num\n",
    "    \n",
    "print(x)"
   ]
  },
  {
   "cell_type": "markdown",
   "metadata": {},
   "source": [
    "### Question # 05"
   ]
  },
  {
   "cell_type": "code",
   "execution_count": 13,
   "metadata": {},
   "outputs": [
    {
     "name": "stdout",
     "output_type": "stream",
     "text": [
      "89\n"
     ]
    }
   ],
   "source": [
    "numeric_list = (1, 1, 2, 3, 55, 5, 89, 8, 13, 21, 34,)\n",
    "\n",
    "print(max(numeric_list))"
   ]
  },
  {
   "cell_type": "markdown",
   "metadata": {},
   "source": [
    "### Question # 06"
   ]
  },
  {
   "cell_type": "code",
   "execution_count": 22,
   "metadata": {},
   "outputs": [
    {
     "name": "stdout",
     "output_type": "stream",
     "text": [
      "8\n",
      "13\n",
      "21\n",
      "34\n",
      "55\n",
      "89\n"
     ]
    }
   ],
   "source": [
    "a = [1, 1, 2, 3, 5, 8, 13, 21, 34, 55, 89]\n",
    "\n",
    "for x in a:\n",
    "    if 5<x:\n",
    "        print(x)"
   ]
  },
  {
   "cell_type": "code",
   "execution_count": null,
   "metadata": {},
   "outputs": [],
   "source": []
  }
 ],
 "metadata": {
  "kernelspec": {
   "display_name": "Python 3",
   "language": "python",
   "name": "python3"
  },
  "language_info": {
   "codemirror_mode": {
    "name": "ipython",
    "version": 3
   },
   "file_extension": ".py",
   "mimetype": "text/x-python",
   "name": "python",
   "nbconvert_exporter": "python",
   "pygments_lexer": "ipython3",
   "version": "3.7.4"
  }
 },
 "nbformat": 4,
 "nbformat_minor": 2
}
