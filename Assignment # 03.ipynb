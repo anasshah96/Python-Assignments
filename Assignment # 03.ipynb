{
 "cells": [
  {
   "cell_type": "markdown",
   "metadata": {},
   "source": [
    "# Assignment # 3"
   ]
  },
  {
   "cell_type": "markdown",
   "metadata": {},
   "source": [
    "### Question # 01"
   ]
  },
  {
   "cell_type": "code",
   "execution_count": 3,
   "metadata": {},
   "outputs": [
    {
     "name": "stdout",
     "output_type": "stream",
     "text": [
      "Enter first value: 5\n",
      "Enter second value: 9\n",
      "Enter the operator: ^\n",
      "1953125 answer\n"
     ]
    }
   ],
   "source": [
    "v1 = int(input(\"Enter first value: \"))\n",
    "v2 = int(input(\"Enter second value: \"))\n",
    "operator = input(\"Enter the operator: \")\n",
    "\n",
    "# add operator\n",
    "if operator == '+' :\n",
    "    v = v1 + v2\n",
    "    print(v,'answer')\n",
    "    \n",
    "# subtract operator\n",
    "elif operator == '-' :\n",
    "    v = v1 - v2\n",
    "    print(v,'answer')\n",
    "    \n",
    "# multiply operator\n",
    "elif operator == '*' :\n",
    "    v = v1 * v2\n",
    "    print(v,'answer')\n",
    "\n",
    "# divide operator\n",
    "elif operator == '/' :\n",
    "    v = v1 / v2\n",
    "    print(v,'answer')\n",
    "\n",
    "# power operator\n",
    "elif operator == '^' :\n",
    "    v = v1 ** v2\n",
    "    print(v,'answer')\n",
    "    \n",
    "else :\n",
    "    print('Enter correct operator')"
   ]
  },
  {
   "cell_type": "markdown",
   "metadata": {},
   "source": [
    "### Question # 02"
   ]
  },
  {
   "cell_type": "code",
   "execution_count": null,
   "metadata": {},
   "outputs": [],
   "source": [
    "user_input  = input(\"Enter your text\")\n",
    "if( user_input.isdigit()):\n",
    "    print(\"User input is Number \")\n",
    "else:\n",
    "    print(\"User input is string \")"
   ]
  },
  {
   "cell_type": "markdown",
   "metadata": {},
   "source": [
    "### Question # 03"
   ]
  },
  {
   "cell_type": "code",
   "execution_count": 6,
   "metadata": {},
   "outputs": [
    {
     "name": "stdout",
     "output_type": "stream",
     "text": [
      "+92312-1234567\n"
     ]
    }
   ],
   "source": [
    "employee = {'ID' : '002154' ,'name' : 'Fahan', 'age' : 31, 'designation' : 'director'}\n",
    "\n",
    "employee['contact'] = '+92312-1234567'\n",
    "\n",
    "print(employee.get('contact'))"
   ]
  },
  {
   "cell_type": "markdown",
   "metadata": {},
   "source": [
    "### Question # 04"
   ]
  },
  {
   "cell_type": "code",
   "execution_count": 7,
   "metadata": {},
   "outputs": [
    {
     "name": "stdout",
     "output_type": "stream",
     "text": [
      "Total amount:  281\n"
     ]
    }
   ],
   "source": [
    "items = {'a' : 22, 'b' : 75, 'c' : 90, 'd' : 33, 'e' : 44, 'f' : 12, 'g' : 5}\n",
    "\n",
    "total = sum(items.values())\n",
    "print('Total amount: ', total)"
   ]
  },
  {
   "cell_type": "markdown",
   "metadata": {},
   "source": [
    "### Question # 05"
   ]
  },
  {
   "cell_type": "code",
   "execution_count": 11,
   "metadata": {},
   "outputs": [
    {
     "name": "stdout",
     "output_type": "stream",
     "text": [
      "15\n",
      "20\n",
      "30\n",
      "40\n",
      "50\n"
     ]
    }
   ],
   "source": [
    "list1 = [20,30,20,30,40,50,15,11,40,50,15]\n",
    "list1.sort()\n",
    "for i in range (len (list1) -1):\n",
    "    if list1[i] == list1[i+1]:\n",
    "        print(list1[i])"
   ]
  },
  {
   "cell_type": "markdown",
   "metadata": {},
   "source": [
    "### Question # 06"
   ]
  },
  {
   "cell_type": "code",
   "execution_count": 9,
   "metadata": {},
   "outputs": [
    {
     "name": "stdout",
     "output_type": "stream",
     "text": [
      "Key is present in the dictionary\n"
     ]
    }
   ],
   "source": [
    "values = {1: 70, 9: 20, 3: 30, 4: 80, 5: 50, 6: 60}\n",
    "def is_the_key_present(x):\n",
    "  if x in values:\n",
    "      print('Key is present in the dictionary')\n",
    "  else:\n",
    "      print('Key is not present in the dictionary')\n",
    "is_the_key_present(5)"
   ]
  },
  {
   "cell_type": "code",
   "execution_count": null,
   "metadata": {},
   "outputs": [],
   "source": []
  }
 ],
 "metadata": {
  "kernelspec": {
   "display_name": "Python 3",
   "language": "python",
   "name": "python3"
  },
  "language_info": {
   "codemirror_mode": {
    "name": "ipython",
    "version": 3
   },
   "file_extension": ".py",
   "mimetype": "text/x-python",
   "name": "python",
   "nbconvert_exporter": "python",
   "pygments_lexer": "ipython3",
   "version": "3.7.4"
  }
 },
 "nbformat": 4,
 "nbformat_minor": 2
}
