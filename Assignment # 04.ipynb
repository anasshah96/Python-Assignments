{
 "cells": [
  {
   "cell_type": "markdown",
   "metadata": {},
   "source": [
    "# Python Programming Language Assignment # 4\n"
   ]
  },
  {
   "cell_type": "markdown",
   "metadata": {},
   "source": [
    "## Question # 01"
   ]
  },
  {
   "cell_type": "markdown",
   "metadata": {},
   "source": [
    "#### Initial employee data\n"
   ]
  },
  {
   "cell_type": "code",
   "execution_count": null,
   "metadata": {},
   "outputs": [],
   "source": [
    "employee_data = {\n",
    "    \"first name\" : \"Muhammad\",\n",
    "    \"last name\" : \"Amir\",\n",
    "    \"age\" : 28,\n",
    "    \"city\" : \"Karachi\"\n",
    "}\n",
    "\n",
    "\n",
    "print(employee_data)"
   ]
  },
  {
   "cell_type": "markdown",
   "metadata": {},
   "source": [
    "#### Add a new key value pair about qualification\n"
   ]
  },
  {
   "cell_type": "code",
   "execution_count": 16,
   "metadata": {},
   "outputs": [
    {
     "name": "stdout",
     "output_type": "stream",
     "text": [
      "{'first name': 'Muhammad', 'last name': 'Amir', 'age': 28, 'city': 'Karachi', 'Qualification': 'Intermediate'}\n"
     ]
    }
   ],
   "source": [
    "employee_data[\"Qualification\"] = \"Intermediate\"\n",
    "\n",
    "print(employee_data)"
   ]
  },
  {
   "cell_type": "markdown",
   "metadata": {},
   "source": [
    "#### Updated the qualification value to high academic level\n"
   ]
  },
  {
   "cell_type": "code",
   "execution_count": 17,
   "metadata": {},
   "outputs": [
    {
     "name": "stdout",
     "output_type": "stream",
     "text": [
      "{'first name': 'Muhammad', 'last name': 'Amir', 'age': 28, 'city': 'Karachi', 'Qualification': 'Graduation'}\n"
     ]
    }
   ],
   "source": [
    "employee_data[\"Qualification\"] = \"Graduation\"\n",
    "\n",
    "print(employee_data)"
   ]
  },
  {
   "cell_type": "markdown",
   "metadata": {},
   "source": [
    "#### Deleted qualification key \n"
   ]
  },
  {
   "cell_type": "code",
   "execution_count": 18,
   "metadata": {},
   "outputs": [
    {
     "name": "stdout",
     "output_type": "stream",
     "text": [
      "{'first name': 'Muhammad', 'last name': 'Amir', 'age': 28, 'city': 'Karachi'}\n"
     ]
    }
   ],
   "source": [
    "del employee_data[\"Qualification\"]\n",
    "\n",
    "print(employee_data)"
   ]
  },
  {
   "cell_type": "markdown",
   "metadata": {},
   "source": [
    "## Question # 02"
   ]
  },
  {
   "cell_type": "code",
   "execution_count": 52,
   "metadata": {},
   "outputs": [
    {
     "name": "stdout",
     "output_type": "stream",
     "text": [
      "\n",
      "Karachi\n",
      "\n",
      "country : Pakistan\n",
      "population : 1491000‬\n",
      "fact : Karachi is the economical hub of Pakistan\n",
      "\n",
      "Ankara\n",
      "\n",
      "country : Turkey\n",
      "population : 5445000‬\n",
      "fact : Ankara is the capital of Turkey and the country's second largest city after Istanbul.\n",
      "\n",
      "Sydney\n",
      "\n",
      "country : Australia\n",
      "population : 5230330\n",
      "fact : The architect for the Syndey Opera House only won £5,000 for the design of the world renown building.\n"
     ]
    }
   ],
   "source": [
    "about_cities = {\n",
    "    \n",
    "    \"Karachi\" : {\n",
    "        \"country\" : \"Pakistan\",\n",
    "        \"population\" : \"1491000‬\",\n",
    "        \"fact\" : \"Karachi is the economical hub of Pakistan\"\n",
    "    },\n",
    "    \"Ankara\" : {\n",
    "        \"country\" : \"Turkey\",\n",
    "        \"population\" : \"5445000‬\",\n",
    "        \"fact\" : \"Ankara is the capital of Turkey and the country's second largest city after Istanbul.\"\n",
    "    },\n",
    "    \"Sydney\" : {\n",
    "        \"country\" : \"Australia\",\n",
    "        \"population\" : \"5230330\",\n",
    "        \"fact\" : \"The architect for the Syndey Opera House only won £5,000 for the design of the world renown building.\"\n",
    "    }\n",
    "}\n",
    "\n",
    "for citykey,cityinfo in about_cities.items():\n",
    "    print(\"\\n\"+citykey+\"\\n\")\n",
    "    for city in cityinfo:\n",
    "        print(city+\" : \"+str(cityinfo[city]))"
   ]
  },
  {
   "cell_type": "markdown",
   "metadata": {},
   "source": [
    "## Question # 03"
   ]
  },
  {
   "cell_type": "code",
   "execution_count": 1,
   "metadata": {},
   "outputs": [
    {
     "name": "stdout",
     "output_type": "stream",
     "text": [
      "Enter your age : 9\n",
      "Ticket price : $10\n"
     ]
    }
   ],
   "source": [
    "age = int(input(\"Enter your age : \"))\n",
    "\n",
    "if age < 3:\n",
    "    print(\"Ticket price : \" + \"Free\")\n",
    "elif age >= 3 and age <12 :\n",
    "    print(\"Ticket price : \" + \"$10\")\n",
    "elif age >= 12 :\n",
    "    print(\"Ticket price : \" + \"$15\")\n",
    "else :\n",
    "    print(\"enter correct age\")"
   ]
  },
  {
   "cell_type": "markdown",
   "metadata": {},
   "source": [
    "## Question # 04"
   ]
  },
  {
   "cell_type": "code",
   "execution_count": 61,
   "metadata": {},
   "outputs": [
    {
     "name": "stdout",
     "output_type": "stream",
     "text": [
      "One of my favorite books is Alice in Wonderland.\n"
     ]
    }
   ],
   "source": [
    "def favorite_book(title):\n",
    "    print(\"One of my favorite books is \" + title)\n",
    "    \n",
    "favorite_book(\"Alice in Wonderland.\")\n"
   ]
  },
  {
   "cell_type": "markdown",
   "metadata": {},
   "source": [
    "## Question # 05\n"
   ]
  },
  {
   "cell_type": "code",
   "execution_count": 1,
   "metadata": {},
   "outputs": [
    {
     "name": "stdout",
     "output_type": "stream",
     "text": [
      "Guess the random generated number between the range of 1 - 30\n",
      "Enter the number :55\n",
      "Please enter your number between 1 - 30 \n",
      "\n",
      "Enter the number :30\n",
      "Generated number is smaller \n",
      "\n",
      "Enter the number :5\n",
      "Generated number is greater \n",
      "\n"
     ]
    }
   ],
   "source": [
    "import random\n",
    "num_of_chances = 0\n",
    "\n",
    "print(\"Guess the random generated number between the range of 1 - 30\")\n",
    "\n",
    "random_number = random.randrange(1,30)\n",
    "\n",
    "while num_of_chances < 3:\n",
    "    user_input = int(input(\"Enter the number :\"))\n",
    "    \n",
    "    num_of_chances = num_of_chances + 1\n",
    "    \n",
    "    \n",
    "    if user_input > 30:\n",
    "        print(\"Please enter your number between 1 - 30 \\n\")\n",
    "    elif user_input < random_number :\n",
    "        print(\"Generated number is greater \\n\")\n",
    "    elif user_input > random_number :\n",
    "        print(\"Generated number is smaller \\n\")\n",
    "    else :\n",
    "        print(\"You guess the correct number\")\n",
    "        "
   ]
  }
 ],
 "metadata": {
  "kernelspec": {
   "display_name": "Python 3",
   "language": "python",
   "name": "python3"
  },
  "language_info": {
   "codemirror_mode": {
    "name": "ipython",
    "version": 3
   },
   "file_extension": ".py",
   "mimetype": "text/x-python",
   "name": "python",
   "nbconvert_exporter": "python",
   "pygments_lexer": "ipython3",
   "version": "3.7.4"
  }
 },
 "nbformat": 4,
 "nbformat_minor": 2
}
