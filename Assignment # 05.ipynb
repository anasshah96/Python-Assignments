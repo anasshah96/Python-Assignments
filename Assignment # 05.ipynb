{
 "cells": [
  {
   "cell_type": "markdown",
   "metadata": {},
   "source": [
    "# Python Programming Language Assignment # 5\n"
   ]
  },
  {
   "cell_type": "markdown",
   "metadata": {},
   "source": [
    "## Question # 01"
   ]
  },
  {
   "cell_type": "code",
   "execution_count": 9,
   "metadata": {},
   "outputs": [
    {
     "name": "stdout",
     "output_type": "stream",
     "text": [
      "The factorial of number 13 is 6227020800\n"
     ]
    }
   ],
   "source": [
    "def fact(num):\n",
    "    \n",
    "    factorial = 1\n",
    "\n",
    "    if num < 0:\n",
    "       print(\"factorial does not exist for negative numbers\")\n",
    "    elif num == 0:\n",
    "       print(\"The factorial of 0 is 1\")\n",
    "    else:\n",
    "       for i in range(1,num + 1):\n",
    "           factorial = factorial*i\n",
    "       print(\"The factorial of number\",num,\"is\",factorial)\n",
    "\n",
    "fact(13)"
   ]
  },
  {
   "cell_type": "markdown",
   "metadata": {},
   "source": [
    "## Question # 02"
   ]
  },
  {
   "cell_type": "code",
   "execution_count": 30,
   "metadata": {},
   "outputs": [
    {
     "name": "stdout",
     "output_type": "stream",
     "text": [
      "Function String :  The quick Brown Fox jump over the Lazy Dog\n",
      "Upper case characters :  5\n",
      "Lower case Characters :  29\n"
     ]
    }
   ],
   "source": [
    "def str_cal(i):\n",
    "    d={\"UPPER_CASE\":0, \"LOWER_CASE\":0}\n",
    "    for x in i:\n",
    "        if x.isupper():\n",
    "           d[\"UPPER_CASE\"]+=1\n",
    "        elif x.islower():\n",
    "           d[\"LOWER_CASE\"]+=1\n",
    "        else:\n",
    "           pass\n",
    "    print (\"Function String : \", i)\n",
    "    print (\"Upper case characters : \", d[\"UPPER_CASE\"])\n",
    "    print (\"Lower case Characters : \", d[\"LOWER_CASE\"])\n",
    "\n",
    "str_cal('The quick Brown Fox jump over the Lazy Dog')"
   ]
  },
  {
   "cell_type": "markdown",
   "metadata": {},
   "source": [
    "## Question # 03"
   ]
  },
  {
   "cell_type": "code",
   "execution_count": 26,
   "metadata": {},
   "outputs": [
    {
     "name": "stdout",
     "output_type": "stream",
     "text": [
      "Even number:  [46, 52, 46, 40, 66, 76, 68, 98]\n"
     ]
    }
   ],
   "source": [
    "numlist = [17,79, 46, 61, 33, 52, 63, 75, 46, 23, 40, 66, 41, 83, 76, 68,99, 98]\n",
    "\n",
    "evennum = []\n",
    "\n",
    "for x in numlist:\n",
    "    if x % 2 == 0:\n",
    "        evennum.append(x)\n",
    "        \n",
    "print(\"Even number: \",evennum)"
   ]
  },
  {
   "cell_type": "markdown",
   "metadata": {},
   "source": [
    "## Question # 04"
   ]
  },
  {
   "cell_type": "code",
   "execution_count": null,
   "metadata": {},
   "outputs": [],
   "source": [
    "mystr = \"Madam\"\n",
    "\n",
    "mystr = mystr.casefold()\n",
    "\n",
    "revstr = revsersed(mystr)\n",
    "    \n",
    "if list(revstr) == list(mystr):\n",
    "    print(\"String is Palindrome\")\n",
    "else:\n",
    "    print(\"String is not Palindrome\")  "
   ]
  },
  {
   "cell_type": "markdown",
   "metadata": {},
   "source": [
    "## Question # 05\n"
   ]
  },
  {
   "cell_type": "code",
   "execution_count": 8,
   "metadata": {},
   "outputs": [
    {
     "name": "stdout",
     "output_type": "stream",
     "text": [
      "10 is not a Prime number\n"
     ]
    }
   ],
   "source": [
    "num = 10\n",
    "\n",
    "\n",
    "for x in range(2,num):\n",
    "    if num % x == 0:\n",
    "        print(str(num) + \" is not a Prime number\")\n",
    "        break\n",
    "        \n",
    "else:\n",
    "    print(str(num) + \" is a Prime number\")\n"
   ]
  },
  {
   "cell_type": "markdown",
   "metadata": {},
   "source": [
    "## Question # 06\n"
   ]
  },
  {
   "cell_type": "code",
   "execution_count": 7,
   "metadata": {},
   "outputs": [
    {
     "name": "stdout",
     "output_type": "stream",
     "text": [
      "-------------  Shopping list  -------------\n",
      "\n",
      "vegetables\n",
      "fruits\n",
      "milk\n",
      "bread\n",
      "buter\n",
      "cold drink\n",
      "sugar\n"
     ]
    }
   ],
   "source": [
    "def shoplist(*m):\n",
    "    print(\"-------------  Shopping list  -------------\\n\")\n",
    "    for items in m:\n",
    "        print(items)\n",
    "    \n",
    "shoplist(\"vegetables\", \"fruits\",\"milk\",\"bread\",\"buter\",\"cold drink\",\"sugar\")"
   ]
  }
 ],
 "metadata": {
  "kernelspec": {
   "display_name": "Python 3",
   "language": "python",
   "name": "python3"
  }
 },
 "nbformat": 4,
 "nbformat_minor": 2
}
