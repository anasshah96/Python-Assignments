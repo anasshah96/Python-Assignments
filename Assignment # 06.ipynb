{
 "cells": [
  {
   "cell_type": "markdown",
   "metadata": {},
   "source": [
    "# Assignment # 6"
   ]
  },
  {
   "cell_type": "markdown",
   "metadata": {},
   "source": [
    "### Question # 01 :  Define Object Oriented Programming Language?"
   ]
  },
  {
   "cell_type": "code",
   "execution_count": 2,
   "metadata": {},
   "outputs": [
    {
     "data": {
      "text/plain": [
       "'Object-oriented programming (OOP) refers to a type of computer programming (software design) in which programmers define the data type of a data structure, and also the types of operations (functions) that can be applied to the data structure.\\n\\nIn this way, the data structure becomes an object that includes both data and functions. In addition, programmers can create relationships between one object and another. For example, objects can inherit characteristics from other objects.'"
      ]
     },
     "execution_count": 2,
     "metadata": {},
     "output_type": "execute_result"
    }
   ],
   "source": [
    "\"\"\"Object-oriented programming (OOP) refers to a type of computer programming (software design) in which programmers define the data type of a data structure, and also the types of operations (functions) that can be applied to the data structure.\n",
    "\n",
    "In this way, the data structure becomes an object that includes both data and functions. In addition, programmers can create relationships between one object and another. For example, objects can inherit characteristics from other objects.\"\"\""
   ]
  },
  {
   "cell_type": "markdown",
   "metadata": {},
   "source": [
    "### Question # 02 : List down the Benefits of OOP?"
   ]
  },
  {
   "cell_type": "code",
   "execution_count": 3,
   "metadata": {},
   "outputs": [],
   "source": [
    "# Modularity for easier troubleshooting. Something has gone wrong, and you have no idea where to look. ...\n",
    "# Reuse of code through inheritance. ...\n",
    "# Flexibility through polymorphism. ...\n",
    "# Effective problem solving"
   ]
  },
  {
   "cell_type": "markdown",
   "metadata": {},
   "source": [
    "### Question # 03 : Differentiate between function and method?"
   ]
  },
  {
   "cell_type": "code",
   "execution_count": null,
   "metadata": {},
   "outputs": [],
   "source": [
    "\n",
    "#Python function is a sequence of statements that execute in a certain order, given a name. They let us implement code reusability. When we talked about Python Functions, we talked about built-in and user-defined functions ( def add(a,b) return a+b add(3,-3))\n",
    "\n",
    "\n",
    "# Function = Python method is called on an object, unlike a function. In our example above, we call start() on the object ‘car’. Conversely, we call Python function quite generically- we don’t call it on any object. Since we call a method on an object, it can access the data within it.\n",
    "# Method = A method may alter an object’s state, but Python function usually only operates on it, and then prints something or returns a value'''\n"
   ]
  },
  {
   "cell_type": "markdown",
   "metadata": {},
   "source": [
    "### Question # 04 : Define the following terms:"
   ]
  },
  {
   "cell_type": "code",
   "execution_count": 22,
   "metadata": {},
   "outputs": [],
   "source": [
    "# Class = Objects have member variables and have behaviour associated with them\n",
    "# Object = Object is simply a collection of data (variables) and methods (functions) that act on those data\n",
    "# Attribute = A class attribute is a Python variable that belongs to a class rather than a particular object. It is shared between all the objects of this class\n",
    "# Object = Objects in Python are generally classified according to their behaviors and the features that they implement"
   ]
  },
  {
   "cell_type": "markdown",
   "metadata": {},
   "source": [
    "### Question # 05 : code in python in which create a class named it Car "
   ]
  },
  {
   "cell_type": "code",
   "execution_count": 16,
   "metadata": {},
   "outputs": [],
   "source": [
    "class Car():\n",
    "    def __init__(self, make,model,year):\n",
    "        self.make = make\n",
    "        self.model = model\n",
    "        self.year = year\n",
    "    \n",
    "    def description(self):\n",
    "        full_name= f\"the name of car is {self.make} {self.model}{self.year}\"\n",
    "        return full_name\n",
    "    "
   ]
  },
  {
   "cell_type": "code",
   "execution_count": null,
   "metadata": {},
   "outputs": [],
   "source": [
    "abcCar = Car(\"Corolla\", \"XLI\", 2018)"
   ]
  },
  {
   "cell_type": "code",
   "execution_count": 18,
   "metadata": {},
   "outputs": [
    {
     "name": "stdout",
     "output_type": "stream",
     "text": [
      "The car has run 8888 miles\n"
     ]
    }
   ],
   "source": [
    "class Car():\n",
    "    def __init__(self, make,model,year):\n",
    "        self.make = make\n",
    "        self.model = model\n",
    "        self.year = year\n",
    "        self.odometer_reading = 0\n",
    "    \n",
    "    def description(self):\n",
    "        full_name= f\"the name of car is {self.make} {self.model}{self.year}\"\n",
    "        return full_name\n",
    "    \n",
    "    def read_odometer(self):\n",
    "        print(f\"The car has run {self.odometer_reading} miles\")\n",
    " \n",
    "    def update_odometer(self, mileage):\n",
    "        self.odometer_reading = mileage\n",
    "        \n",
    "abcCar1= Car(\"Mehran\",\"XL\",2018)\n",
    "abcCar1.odometer_reading = 8888\n",
    "abcCar1.read_odometer()"
   ]
  },
  {
   "cell_type": "code",
   "execution_count": 19,
   "metadata": {},
   "outputs": [
    {
     "name": "stdout",
     "output_type": "stream",
     "text": [
      "the name of car is tesla model2016\n",
      "tesla\n",
      "model\n",
      "0\n",
      "8900\n",
      "2016\n"
     ]
    }
   ],
   "source": [
    "class ElectricCar(Car):\n",
    "    def __init__(self, make, model, year):\n",
    "        super().__init__(make, model, year)\n",
    "        \n",
    "my_tesla = ElectricCar('tesla', 'model', 2016)\n",
    "print(my_tesla.description())\n",
    "print(my_tesla.make)\n",
    "print(my_tesla.model)\n",
    "print(my_tesla.odometer_reading)\n",
    "my_tesla.update_odometer(8900)\n",
    "print(my_tesla.odometer_reading)\n",
    "\n",
    "print(my_tesla.year)"
   ]
  },
  {
   "cell_type": "code",
   "execution_count": 20,
   "metadata": {},
   "outputs": [
    {
     "name": "stdout",
     "output_type": "stream",
     "text": [
      "Battery size is: 100\n"
     ]
    }
   ],
   "source": [
    "class ElectricCar(Car):\n",
    "    def __init__(self,make,model,year):\n",
    "        super().__init__(make,model,year)\n",
    "        self.batterySize = 100\n",
    "        self.battteryMan = \"Exide\"\n",
    "        \n",
    "    \n",
    "    def getBatterySize(self):\n",
    "        print(f\"Battery size is: {self.batterySize}\")\n",
    "    \n",
    "    def setBatterySize(self, newBatterySize):\n",
    "        self.batterySize = newBatterySize\n",
    "eCar= ElectricCar(\"abc\", \"model\",2019)\n",
    "eCar.getBatterySize()\n"
   ]
  },
  {
   "cell_type": "code",
   "execution_count": 21,
   "metadata": {},
   "outputs": [
    {
     "name": "stdout",
     "output_type": "stream",
     "text": [
      "Battery size is: 400\n"
     ]
    }
   ],
   "source": [
    "eCar.setBatterySize(400)\n",
    "eCar.getBatterySize()"
   ]
  }
 ],
 "metadata": {
  "kernelspec": {
   "display_name": "Python 3",
   "language": "python",
   "name": "python3"
  },
  "language_info": {
   "codemirror_mode": {
    "name": "ipython",
    "version": 3
   },
   "file_extension": ".py",
   "mimetype": "text/x-python",
   "name": "python",
   "nbconvert_exporter": "python",
   "pygments_lexer": "ipython3",
   "version": "3.7.4"
  }
 },
 "nbformat": 4,
 "nbformat_minor": 2
}
